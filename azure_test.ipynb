{
 "cells": [
  {
   "cell_type": "code",
   "execution_count": null,
   "metadata": {},
   "outputs": [],
   "source": [
    "import sqlalchemy\n",
    "import pandas as pd\n",
    "import pandas as pd\n",
    "from matplotlib import pyplot as plt\n",
    "import seaborn as sns\n",
    "import numpy as np\n",
    "import csv\n",
    "from sqlalchemy import create_engine"
   ]
  },
  {
   "cell_type": "code",
   "execution_count": null,
   "metadata": {},
   "outputs": [],
   "source": [
    "engine = sqlalchemy.create_engine('sqlite:///../db/azure_packing_trace.db')\n",
    "connection = engine.connect()"
   ]
  },
  {
   "cell_type": "code",
   "execution_count": null,
   "metadata": {},
   "outputs": [],
   "source": [
    "query = \"select vm.vmId, vm.tenantId, vm.vmTypeId, vm.priority, vm.starttime, vm.endtime, (vm.endtime - vm.starttime) as runtime, vmType.core, vmType.memory from vm, vmType where vm.vmTypeId = vmType.vmTypeId and endtime <= 14 and machineId = 16;\"\n"
   ]
  },
  {
   "cell_type": "code",
   "execution_count": null,
   "metadata": {},
   "outputs": [],
   "source": [
    "results = pd.read_sql_query(query, connection)\n"
   ]
  },
  {
   "cell_type": "code",
   "execution_count": null,
   "metadata": {},
   "outputs": [],
   "source": [
    "results.to_csv('../db/output.csv', index=False)"
   ]
  },
  {
   "cell_type": "code",
   "execution_count": null,
   "metadata": {},
   "outputs": [],
   "source": [
    "df1 = pd.read_sql_query('select * from vmType', connection)\n",
    "df2 = pd.read_sql_query('select * from vm', connection)\n",
    "df3 = pd.read_csv(\"../db/output.csv\", connection)\n",
    "print(df1.info(), df2.info())"
   ]
  },
  {
   "cell_type": "code",
   "execution_count": null,
   "metadata": {},
   "outputs": [],
   "source": [
    "df1[['core', 'memory']].value_counts()"
   ]
  },
  {
   "cell_type": "code",
   "execution_count": null,
   "metadata": {},
   "outputs": [],
   "source": [
    "cpu_count = df1['core'].value_counts()\n",
    "plt.figure(figsize=(10, 5))\n",
    "sns.barplot(x=cpu_count.index, y=cpu_count.values)\n",
    "plt.yscale('log')\n",
    "plt.ylabel('Number of VM types')\n",
    "plt.title('Machine CPU unit distribution')"
   ]
  },
  {
   "cell_type": "code",
   "execution_count": null,
   "metadata": {},
   "outputs": [],
   "source": [
    "memory_count = df1['memory'].value_counts()\n",
    "plt.figure(figsize=(10, 5))\n",
    "sns.barplot(x=memory_count.index, y=memory_count.values)\n",
    "plt.yscale('log')\n",
    "plt.ylabel('Number of VM types')\n",
    "plt.title('Machine Memory unit distribution')"
   ]
  },
  {
   "cell_type": "code",
   "execution_count": null,
   "metadata": {},
   "outputs": [],
   "source": [
    "ssd_count = df1['ssd'].value_counts()\n",
    "plt.figure(figsize=(10, 5))\n",
    "sns.barplot(x=ssd_count.index, y=ssd_count.values)\n",
    "plt.yscale('log')\n",
    "plt.ylabel('Number of VM types')\n",
    "plt.title('Machine SSD unit distribution')"
   ]
  },
  {
   "cell_type": "markdown",
   "metadata": {},
   "source": [
    "Make new column runtime which is derived from endtime - starttime"
   ]
  },
  {
   "cell_type": "code",
   "execution_count": null,
   "metadata": {},
   "outputs": [],
   "source": [
    "df2['runtime'] = df2['endtime'] - df2['starttime']"
   ]
  },
  {
   "cell_type": "code",
   "execution_count": null,
   "metadata": {},
   "outputs": [],
   "source": [
    "print(df2)"
   ]
  },
  {
   "cell_type": "code",
   "execution_count": null,
   "metadata": {},
   "outputs": [],
   "source": [
    "print(df2['runtime'].describe())"
   ]
  },
  {
   "cell_type": "code",
   "execution_count": null,
   "metadata": {},
   "outputs": [],
   "source": [
    "df2['runtime'].value_counts()"
   ]
  },
  {
   "cell_type": "code",
   "execution_count": null,
   "metadata": {},
   "outputs": [],
   "source": [
    "uptime = df2['runtime']\n",
    "plt.figure(figsize=(8, 8))\n",
    "plt.title(\"Distribution of Uptime per Virtual Machine\")\n",
    "plt.ylabel(\"No. of VMs\")\n",
    "plt.xlabel(\"Uptime (days)\")\n",
    "\n",
    "xticks = np.arange(0, 99, 8)\n",
    "xlabels = [x for x in xticks]\n",
    "plt.xticks(ticks=xticks, labels=xlabels)\n",
    "plt.hist(uptime, bins=150)\n",
    "plt.show()"
   ]
  },
  {
   "cell_type": "code",
   "execution_count": null,
   "metadata": {},
   "outputs": [],
   "source": []
  },
  {
   "cell_type": "code",
   "execution_count": 15,
   "metadata": {},
   "outputs": [],
   "source": [
    "connection.close()"
   ]
  }
 ],
 "metadata": {
  "kernelspec": {
   "display_name": "Python 3",
   "language": "python",
   "name": "python3"
  },
  "language_info": {
   "codemirror_mode": {
    "name": "ipython",
    "version": 3
   },
   "file_extension": ".py",
   "mimetype": "text/x-python",
   "name": "python",
   "nbconvert_exporter": "python",
   "pygments_lexer": "ipython3",
   "version": "3.10.12"
  }
 },
 "nbformat": 4,
 "nbformat_minor": 2
}
