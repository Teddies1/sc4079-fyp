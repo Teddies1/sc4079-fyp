{
 "cells": [
  {
   "cell_type": "code",
   "execution_count": 2,
   "metadata": {},
   "outputs": [],
   "source": [
    "import sqlalchemy\n",
    "import pandas as pd\n",
    "import pandas as pd\n",
    "from matplotlib import pyplot as plt\n",
    "import seaborn as sns\n",
    "import numpy as np\n",
    "from sqlalchemy import create_engine"
   ]
  },
  {
   "cell_type": "code",
   "execution_count": 3,
   "metadata": {},
   "outputs": [],
   "source": [
    "engine = sqlalchemy.create_engine('sqlite:///../db/azure_packing_trace.db')\n",
    "connection = engine.connect()"
   ]
  },
  {
   "cell_type": "code",
   "execution_count": 4,
   "metadata": {},
   "outputs": [
    {
     "name": "stdout",
     "output_type": "stream",
     "text": [
      "<class 'pandas.core.frame.DataFrame'>\n",
      "RangeIndex: 4619 entries, 0 to 4618\n",
      "Data columns (total 8 columns):\n",
      " #   Column     Non-Null Count  Dtype  \n",
      "---  ------     --------------  -----  \n",
      " 0   id         4619 non-null   int64  \n",
      " 1   vmTypeId   4619 non-null   int64  \n",
      " 2   machineId  4619 non-null   int64  \n",
      " 3   core       4619 non-null   float64\n",
      " 4   memory     4619 non-null   float64\n",
      " 5   hdd        959 non-null    float64\n",
      " 6   ssd        4619 non-null   float64\n",
      " 7   nic        4619 non-null   float64\n",
      "dtypes: float64(5), int64(3)\n",
      "memory usage: 288.8 KB\n",
      "<class 'pandas.core.frame.DataFrame'>\n",
      "RangeIndex: 4664759 entries, 0 to 4664758\n",
      "Data columns (total 6 columns):\n",
      " #   Column     Dtype  \n",
      "---  ------     -----  \n",
      " 0   vmId       int64  \n",
      " 1   tenantId   int64  \n",
      " 2   vmTypeId   int64  \n",
      " 3   priority   int64  \n",
      " 4   starttime  float64\n",
      " 5   endtime    float64\n",
      "dtypes: float64(2), int64(4)\n",
      "memory usage: 213.5 MB\n",
      "None None\n"
     ]
    }
   ],
   "source": [
    "df1 = pd.read_sql_query('select * from vmType', connection)\n",
    "df2 = pd.read_sql_query('select * from vm', connection)\n",
    "print(df1.info(), df2.info())"
   ]
  },
  {
   "cell_type": "markdown",
   "metadata": {},
   "source": [
    "4664759 \n",
    "5559800 "
   ]
  },
  {
   "cell_type": "code",
   "execution_count": 53,
   "metadata": {},
   "outputs": [
    {
     "data": {
      "text/plain": [
       "core      memory  \n",
       "1.000000  0.875000    45\n",
       "0.083333  0.072917    44\n",
       "0.041667  0.018229    40\n",
       "0.083333  0.036458    40\n",
       "0.166667  0.072917    39\n",
       "                      ..\n",
       "0.004167  0.002667     1\n",
       "          0.003556     1\n",
       "0.005000  0.002000     1\n",
       "0.006250  0.003111     1\n",
       "          0.004557     1\n",
       "Name: count, Length: 973, dtype: int64"
      ]
     },
     "execution_count": 53,
     "metadata": {},
     "output_type": "execute_result"
    }
   ],
   "source": [
    "df1[['core', 'memory']].value_counts()"
   ]
  },
  {
   "cell_type": "code",
   "execution_count": null,
   "metadata": {},
   "outputs": [],
   "source": [
    "cpu_count = df1['core'].value_counts()\n",
    "plt.figure(figsize=(10, 5))\n",
    "sns.barplot(x=cpu_count.index, y=cpu_count.values)\n",
    "plt.yscale('log')\n",
    "plt.ylabel('Number of VM types')\n",
    "plt.title('Machine CPU unit distribution')"
   ]
  },
  {
   "cell_type": "code",
   "execution_count": null,
   "metadata": {},
   "outputs": [],
   "source": [
    "memory_count = df1['memory'].value_counts()\n",
    "plt.figure(figsize=(10, 5))\n",
    "sns.barplot(x=memory_count.index, y=memory_count.values)\n",
    "plt.yscale('log')\n",
    "plt.ylabel('Number of VM types')\n",
    "plt.title('Machine Memory unit distribution')"
   ]
  },
  {
   "cell_type": "code",
   "execution_count": null,
   "metadata": {},
   "outputs": [],
   "source": [
    "ssd_count = df1['ssd'].value_counts()\n",
    "plt.figure(figsize=(10, 5))\n",
    "sns.barplot(x=ssd_count.index, y=ssd_count.values)\n",
    "plt.yscale('log')\n",
    "plt.ylabel('Number of VM types')\n",
    "plt.title('Machine SSD unit distribution')"
   ]
  },
  {
   "cell_type": "markdown",
   "metadata": {},
   "source": [
    "Make new column runtime which is derived from endtime - starttime"
   ]
  },
  {
   "cell_type": "code",
   "execution_count": 5,
   "metadata": {},
   "outputs": [],
   "source": [
    "df2['runtime'] = df2['endtime'] - df2['starttime']"
   ]
  },
  {
   "cell_type": "code",
   "execution_count": 31,
   "metadata": {},
   "outputs": [
    {
     "name": "stdout",
     "output_type": "stream",
     "text": [
      "            vmId  tenantId  vmTypeId  priority  starttime    endtime   runtime\n",
      "0              5         0         8         0   0.479317   0.872822  0.393505\n",
      "1             10         0         8         0   0.520289   0.694538  0.174249\n",
      "2             13         0         8         0   0.587153   0.613120  0.025967\n",
      "3             14         1         6         0   0.589155   0.590439  0.001284\n",
      "4             15         2         6         0   0.589352   0.590706  0.001354\n",
      "...          ...       ...       ...       ...        ...        ...       ...\n",
      "4664754  7735508   2791895        42         0  13.381644  13.382375  0.000732\n",
      "4664755  7735509   2791895        42         0  13.381644  13.382375  0.000732\n",
      "4664756  7735516   2791704        42         0  13.397303  13.404040  0.006736\n",
      "4664757  7735517   2791704        42         0  13.397303  13.404040  0.006736\n",
      "4664758  7735518   2791704        42         0  13.397303  13.404040  0.006736\n",
      "\n",
      "[4664759 rows x 7 columns]\n"
     ]
    }
   ],
   "source": [
    "print(df2)"
   ]
  },
  {
   "cell_type": "code",
   "execution_count": 6,
   "metadata": {},
   "outputs": [
    {
     "name": "stdout",
     "output_type": "stream",
     "text": [
      "count    4.664759e+06\n",
      "mean     4.688676e-01\n",
      "std      3.313608e+00\n",
      "min      3.590249e-07\n",
      "25%      7.416401e-03\n",
      "50%      2.307667e-02\n",
      "75%      9.257595e-02\n",
      "max      8.963879e+01\n",
      "Name: runtime, dtype: float64\n"
     ]
    }
   ],
   "source": [
    "print(df2['runtime'].describe())"
   ]
  },
  {
   "cell_type": "code",
   "execution_count": 7,
   "metadata": {},
   "outputs": [
    {
     "data": {
      "text/plain": [
       "runtime\n",
       "0.010064    32\n",
       "0.010064    31\n",
       "0.010077    31\n",
       "0.010034    30\n",
       "0.010077    30\n",
       "            ..\n",
       "5.978453     1\n",
       "5.978453     1\n",
       "5.978453     1\n",
       "5.978453     1\n",
       "5.978453     1\n",
       "Name: count, Length: 2755915, dtype: int64"
      ]
     },
     "execution_count": 7,
     "metadata": {},
     "output_type": "execute_result"
    }
   ],
   "source": [
    "df2['runtime'].value_counts()"
   ]
  },
  {
   "cell_type": "code",
   "execution_count": 96,
   "metadata": {},
   "outputs": [
    {
     "data": {
      "image/png": "[encoded data removed]",
      "text/plain": [
       "<Figure size 800x800 with 1 Axes>"
      ]
     },
     "metadata": {},
     "output_type": "display_data"
    }
   ],
   "source": [
    "uptime = df2['runtime']\n",
    "plt.figure(figsize=(8, 8))\n",
    "plt.title(\"Distribution of Uptime per Virtual Machine\")\n",
    "plt.ylabel(\"No. of VMs\")\n",
    "plt.xlabel(\"Uptime (days)\")\n",
    "\n",
    "xticks = np.arange(0, 99, 8)\n",
    "xlabels = [x for x in xticks]\n",
    "plt.xticks(ticks=xticks, labels=xlabels)\n",
    "plt.hist(uptime, bins=150)\n",
    "plt.show()"
   ]
  },
  {
   "cell_type": "code",
   "execution_count": null,
   "metadata": {},
   "outputs": [],
   "source": []
  },
  {
   "cell_type": "code",
   "execution_count": null,
   "metadata": {},
   "outputs": [],
   "source": [
    "connection.close()"
   ]
  }
 ],
 "metadata": {
  "kernelspec": {
   "display_name": "Python 3",
   "language": "python",
   "name": "python3"
  },
  "language_info": {
   "codemirror_mode": {
    "name": "ipython",
    "version": 3
   },
   "file_extension": ".py",
   "mimetype": "text/x-python",
   "name": "python",
   "nbconvert_exporter": "python",
   "pygments_lexer": "ipython3",
   "version": "3.10.12"
  }
 },
 "nbformat": 4,
 "nbformat_minor": 2
}
