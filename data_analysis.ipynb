{
 "cells": [
  {
   "cell_type": "code",
   "execution_count": null,
   "metadata": {},
   "outputs": [],
   "source": [
    "import pandas as pd\n",
    "import seaborn as sns\n",
    "import matplotlib.pyplot as plt"
   ]
  },
  {
   "cell_type": "code",
   "execution_count": null,
   "metadata": {},
   "outputs": [],
   "source": [
    "cpu_usage = pd.read_csv('../logging/core_usage.csv')\n",
    "memory_usage = pd.read_csv('../logging/memory_usage.csv')\n"
   ]
  },
  {
   "cell_type": "code",
   "execution_count": null,
   "metadata": {},
   "outputs": [],
   "source": [
    "plt.figure(figsize=(30, 10))\n",
    "plt.rc('font', size=20)\n",
    "sns.lineplot(data=cpu_usage, x='timestamp', y='baseline_core_util', label='Base CPU usage')\n",
    "sns.lineplot(data=cpu_usage, x='timestamp', y='stratus_core_util', label='Stratus CPU usage')\n",
    "plt.xlabel('Time (hours)')\n",
    "plt.ylabel('Total acquired CPU resources (Unit)')"
   ]
  },
  {
   "cell_type": "code",
   "execution_count": null,
   "metadata": {},
   "outputs": [],
   "source": [
    "plt.figure(figsize=(30, 10))\n",
    "plt.rc('font', size=20)\n",
    "sns.lineplot(data=memory_usage, x='timestamp', y='baseline_memory_util', label='Base memory usage')\n",
    "sns.lineplot(data=memory_usage, x='timestamp', y='stratus_memory_util', label='Stratus memory usage')\n",
    "plt.xlabel('Time (hours)')\n",
    "plt.ylabel('Total acquired memory resources (Unit)')"
   ]
  }
 ],
 "metadata": {
  "kernelspec": {
   "display_name": "Python 3",
   "language": "python",
   "name": "python3"
  },
  "language_info": {
   "codemirror_mode": {
    "name": "ipython",
    "version": 3
   },
   "file_extension": ".py",
   "mimetype": "text/x-python",
   "name": "python",
   "nbconvert_exporter": "python",
   "pygments_lexer": "ipython3",
   "version": "3.10.12"
  }
 },
 "nbformat": 4,
 "nbformat_minor": 2
}
